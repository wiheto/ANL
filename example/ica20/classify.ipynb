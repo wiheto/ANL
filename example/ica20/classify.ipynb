{
 "metadata": {
  "language": "python",
  "name": ""
 },
 "nbformat": 3,
 "nbformat_minor": 0,
 "worksheets": [
  {
   "cells": [
    {
     "cell_type": "markdown",
     "metadata": {
      "slideshow": {
       "slide_type": "slide"
      }
     },
     "source": [
      "# This file should be run in the main directory of the repo.\n",
      "\n",
      "# Example of ANL\n",
      "\n",
      "(Note this is still very early sortware)"
     ]
    },
    {
     "cell_type": "code",
     "collapsed": false,
     "input": [
      "import anl\n",
      "import pandas as pd\n",
      "import nilearn.datasets\n",
      "import nilearn.plotting\n",
      "from nilearn.decomposition import CanICA\n",
      "import nibabel as nib\n",
      "import matplotlib.pyplot as plt\n",
      "import os"
     ],
     "language": "python",
     "metadata": {
      "slideshow": {
       "slide_type": "slide"
      }
     },
     "outputs": [
      {
       "output_type": "stream",
       "stream": "stderr",
       "text": [
        "/home/william/anaconda3/lib/python3.5/site-packages/sklearn/cross_validation.py:44: DeprecationWarning: This module was deprecated in version 0.18 in favor of the model_selection module into which all the refactored classes and functions are moved. Also note that the interface of the new CV iterators are different from that of this module. This module will be removed in 0.20.\n",
        "  \"This module will be removed in 0.20.\", DeprecationWarning)\n"
       ]
      }
     ],
     "prompt_number": 1
    },
    {
     "cell_type": "markdown",
     "metadata": {
      "slideshow": {
       "slide_type": "slide"
      }
     },
     "source": [
      "Download the ADHD preprocessed dataset from nitrc via nileard data and perform ICA"
     ]
    },
    {
     "cell_type": "code",
     "collapsed": false,
     "input": [
      "if not os.path.isfile('./example/ica20/icarest20.nii.gz'):\n",
      "    #Get all 40 preprocessed subject in adhd dataset\n",
      "    adhd_dataset = nilearn.datasets.fetch_adhd()\n",
      "    func_filenames = adhd_dataset.func\n",
      "\n",
      "    #Run ICA with 30 components\n",
      "    canica = CanICA(n_components=20)\n",
      "    canica.fit(func_filenames)\n",
      "\n",
      "    # Retrieve the independent components in brain space\n",
      "    components_img = canica.masker_.inverse_transform(canica.components_)\n",
      "    components_img.to_filename('./example/ica20/icarest20.nii.gz')"
     ],
     "language": "python",
     "metadata": {
      "slideshow": {
       "slide_type": "slide"
      }
     },
     "outputs": [],
     "prompt_number": 2
    },
    {
     "cell_type": "code",
     "collapsed": false,
     "input": [
      "netinfo = pd.read_json('./networkMasks/netinfo.json')\n",
      "netinfo.sort_index(inplace=True)\n",
      "template_dir= './networkMasks/'\n",
      "result_dir = './example/ica20/figures'\n",
      "image_file = './example/ica20/icarest20.nii.gz'"
     ],
     "language": "python",
     "metadata": {
      "slideshow": {
       "slide_type": "slide"
      }
     },
     "outputs": [],
     "prompt_number": 3
    },
    {
     "cell_type": "code",
     "collapsed": false,
     "input": [
      "netclass = anl.match_best(image_file,template_dir,netinfo,compareBy='likelihood',threshold='binarize')\n",
      "\n",
      "icanib = nib.funcs.four_to_three(nib.load(image_file))\n",
      "for n in range(0,len(netclass)):\n",
      "    fig,ax = plt.subplots(1,figsize=(5,2))\n",
      "    nilearn.plotting.plot_stat_map(icanib[n],figure=fig,axes=ax,draw_cross=False,colorbar=False)\n",
      "    ax.set_title(netclass['network'].iloc[n])\n",
      "    fig.savefig(result_dir + '/ica' + str(n+1) + '.png',r=300)\n",
      "    plt.close('all')"
     ],
     "language": "python",
     "metadata": {
      "slideshow": {
       "slide_type": "slide"
      }
     },
     "outputs": [
      {
       "output_type": "stream",
       "stream": "stdout",
       "text": [
        "Input (net) is a file\n",
        "Input (template) is a directory containing 29 .nii files\n",
        "Input image is different size to template. Resampling.\n"
       ]
      },
      {
       "output_type": "stream",
       "stream": "stderr",
       "text": [
        "/home/william/anaconda3/lib/python3.5/site-packages/scipy/ndimage/interpolation.py:462: UserWarning: The behaviour of affine_transform with a one-dimensional array supplied for the matrix parameter has changed in scipy 0.18.0.\n",
        "  \"The behaviour of affine_transform with a one-dimensional \"\n"
       ]
      },
      {
       "output_type": "stream",
       "stream": "stdout",
       "text": [
        "applying binary threshold\n"
       ]
      },
      {
       "output_type": "stream",
       "stream": "stdout",
       "text": [
        "--To be fixed: noise masks must be located in current directory\n"
       ]
      },
      {
       "output_type": "stream",
       "stream": "stdout",
       "text": [
        "620\n",
        "620\n",
        "620\n",
        "620\n"
       ]
      },
      {
       "output_type": "stream",
       "stream": "stderr",
       "text": [
        "/home/william/anaconda3/lib/python3.5/site-packages/matplotlib/cbook.py:136: MatplotlibDeprecationWarning: The axisbg attribute was deprecated in version 2.0. Use facecolor instead.\n",
        "  warnings.warn(message, mplDeprecation, stacklevel=1)\n"
       ]
      }
     ],
     "prompt_number": 4
    }
   ],
   "metadata": {}
  }
 ]
}
